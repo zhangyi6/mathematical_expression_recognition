{
 "cells": [
  {
   "cell_type": "markdown",
   "metadata": {
    "deletable": true,
    "editable": true
   },
   "source": [
    "## 算式识别\n",
    "- 总体概论\n"
   ]
  },
  {
   "cell_type": "markdown",
   "metadata": {
    "deletable": true,
    "editable": true
   },
   "source": [
    "## 步骤0\n",
    "### 导入数据集"
   ]
  },
  {
   "cell_type": "code",
   "execution_count": 24,
   "metadata": {
    "collapsed": false,
    "deletable": true,
    "editable": true
   },
   "outputs": [
    {
     "name": "stdout",
     "output_type": "stream",
     "text": [
      "label:\n",
      "['(0+0)+9=9' '9*8+6=78' '1+7+0=8' '5+4+9=18' '7-(1*7)=0']\n",
      "name of images:\n",
      "['train/0.jpg' 'train/1.jpg' 'train/2.jpg' 'train/3.jpg' 'train/4.jpg']\n",
      "数据集共有图片：100000\n",
      "(64, 300, 3)\n"
     ]
    },
    {
     "data": {
      "image/png": "[encoded data removed]",
      "text/plain": [
       "<matplotlib.figure.Figure at 0xa56e978>"
      ]
     },
     "metadata": {},
     "output_type": "display_data"
    }
   ],
   "source": [
    "import pandas as pd\n",
    "from sklearn.datasets import load_files \n",
    "import numpy as np\n",
    "from PIL import Image\n",
    "import matplotlib.pyplot as plt\n",
    "\n",
    " # 加载标签数据\n",
    "labels_file = pd.read_csv('train.csv')\n",
    "label = np.array(labels_file['label'])\n",
    "file_names = np.array(labels_file['filename'])\n",
    "\n",
    "# 显示数据结构\n",
    "print('label:')\n",
    "print(label[:5])\n",
    "print('name of images:')\n",
    "print(file_names[:5])\n",
    "print('数据集共有图片：%d' % len(file_names))\n",
    "\n",
    "# 展示图片sample\n",
    "img = Image.open('train/2.jpg')\n",
    "print(np.array(img).shape)\n",
    "plt.imshow(img)\n",
    "plt.show()"
   ]
  },
  {
   "cell_type": "code",
   "execution_count": 21,
   "metadata": {
    "collapsed": false,
    "deletable": true,
    "editable": true
   },
   "outputs": [
    {
     "name": "stdout",
     "output_type": "stream",
     "text": [
      "[[247 247 247 ..., 247 247 247]\n",
      " [247 247 247 ..., 247 247 247]\n",
      " [247 247 247 ..., 247 247 247]\n",
      " ..., \n",
      " [247 247 247 ..., 247 247 247]\n",
      " [247 247 247 ..., 247 247 247]\n",
      " [247 247 247 ..., 247 247 247]]\n",
      "['covert/0.jpg', 'covert/1.jpg', 'covert/2.jpg', 'covert/3.jpg', 'covert/4.jpg', 'covert/5.jpg', 'covert/6.jpg', 'covert/7.jpg', 'covert/8.jpg', 'covert/9.jpg']\n"
     ]
    },
    {
     "ename": "TypeError",
     "evalue": "int() argument must be a string, a bytes-like object or a number, not 'Image'",
     "output_type": "error",
     "traceback": [
      "\u001b[1;31m---------------------------------------------------------------------------\u001b[0m",
      "\u001b[1;31mTypeError\u001b[0m                                 Traceback (most recent call last)",
      "\u001b[1;32m<ipython-input-21-8f9608e2d050>\u001b[0m in \u001b[0;36m<module>\u001b[1;34m()\u001b[0m\n\u001b[0;32m     12\u001b[0m \u001b[0mprint\u001b[0m\u001b[1;33m(\u001b[0m\u001b[0mdestination_path\u001b[0m\u001b[1;33m[\u001b[0m\u001b[1;33m:\u001b[0m\u001b[1;36m10\u001b[0m\u001b[1;33m]\u001b[0m\u001b[1;33m)\u001b[0m\u001b[1;33m\u001b[0m\u001b[0m\n\u001b[0;32m     13\u001b[0m \u001b[0mall_images\u001b[0m \u001b[1;33m=\u001b[0m \u001b[1;33m[\u001b[0m\u001b[0mcovert_store_gray_img\u001b[0m\u001b[1;33m(\u001b[0m\u001b[0mfile_names\u001b[0m\u001b[1;33m[\u001b[0m\u001b[0mi\u001b[0m\u001b[1;33m]\u001b[0m\u001b[1;33m,\u001b[0m \u001b[0mdestination_path\u001b[0m\u001b[1;33m[\u001b[0m\u001b[0mi\u001b[0m\u001b[1;33m]\u001b[0m\u001b[1;33m)\u001b[0m \u001b[1;32mfor\u001b[0m \u001b[0mi\u001b[0m \u001b[1;32min\u001b[0m \u001b[0mrange\u001b[0m\u001b[1;33m(\u001b[0m\u001b[1;36m3\u001b[0m\u001b[1;33m)\u001b[0m\u001b[1;33m]\u001b[0m\u001b[1;33m\u001b[0m\u001b[0m\n\u001b[1;32m---> 14\u001b[1;33m \u001b[0mprint\u001b[0m\u001b[1;33m(\u001b[0m\u001b[0mnp\u001b[0m\u001b[1;33m.\u001b[0m\u001b[0marray\u001b[0m\u001b[1;33m(\u001b[0m\u001b[0mall_images\u001b[0m\u001b[1;33m)\u001b[0m\u001b[1;33m)\u001b[0m\u001b[1;33m\u001b[0m\u001b[0m\n\u001b[0m",
      "\u001b[1;31mTypeError\u001b[0m: int() argument must be a string, a bytes-like object or a number, not 'Image'"
     ]
    }
   ],
   "source": [
    "from tqdm import tqdm\n",
    "\n",
    "# 用PIL进行图片加载，并转换为灰度格式 \n",
    "def covert_store_gray_img(img_path, store_path):\n",
    "    '''read images to destination, covert to gray'''\n",
    "    img = Image.open(img_path).convert('L')\n",
    "    img.save(store_path)\n",
    "    return img\n",
    "\n",
    "# img = covert_store_gray_img('train/0.jpg', '0000.jpg')\n",
    "# print(np.array(img))\n",
    "\n",
    "# 设置转换灰度图片的地址到‘covert/’\n",
    "destination_path = ['covert' + file_name[5:] for file_name in file_names]\n",
    "\n",
    "# 将所有图片转化层灰度图片到目标文件夹\n",
    "all_images = [covert_store_gray_img(file_names[i], destination_path[i]) for i in range(len(file_name))]\n",
    "\n",
    "# 将图片转化为数组\n",
    "def img_to_array(img_path):\n",
    "    img = image.open(img_path)\n",
    "    return np.array(img.getdata()).reshape(64, 300)\n",
    "\n",
    "# 所有图片批量转化为数组\n",
    "def all_to_array(img_paths):\n",
    "    list_of_tensors = [img_to_array(img_path) for img_path in tqdm(img_paths)]\n",
    "    return np.vstack(list_of_tensors)\n",
    "\n",
    "\n",
    "\n",
    "\n",
    "\n",
    "\n",
    "\n",
    "\n",
    "\n",
    "# 将所有训练数据储存在train_data中\n",
    "train_data = all_to_array(destination_path)"
   ]
  },
  {
   "cell_type": "code",
   "execution_count": 36,
   "metadata": {
    "collapsed": false,
    "scrolled": true
   },
   "outputs": [
    {
     "name": "stdout",
     "output_type": "stream",
     "text": [
      "[array([[247, 247, 247, ..., 247, 247, 247],\n",
      "       [247, 247, 247, ..., 247, 247, 247],\n",
      "       [247, 247, 247, ..., 247, 247, 247],\n",
      "       ..., \n",
      "       [247, 247, 247, ..., 247, 247, 247],\n",
      "       [247, 247, 247, ..., 247, 247, 247],\n",
      "       [247, 247, 247, ..., 247, 247, 247]], dtype=uint8), array([[244, 244, 244, ..., 245, 245, 245],\n",
      "       [244, 244, 244, ..., 245, 245, 245],\n",
      "       [244, 244, 245, ..., 245, 245, 245],\n",
      "       ..., \n",
      "       [240, 243, 222, ..., 245, 245, 245],\n",
      "       [243, 238, 247, ..., 245, 245, 245],\n",
      "       [244, 239, 241, ..., 245, 245, 245]], dtype=uint8), array([[245, 245, 245, ..., 246, 245, 244],\n",
      "       [244, 244, 244, ..., 245, 246, 244],\n",
      "       [244, 244, 244, ..., 244, 244, 244],\n",
      "       ..., \n",
      "       [245, 245, 245, ..., 245, 245, 245],\n",
      "       [244, 244, 245, ..., 245, 245, 245],\n",
      "       [244, 244, 244, ..., 245, 245, 245]], dtype=uint8), array([[251, 251, 251, ..., 251, 251, 251],\n",
      "       [251, 251, 251, ..., 251, 251, 251],\n",
      "       [251, 251, 251, ..., 251, 251, 251],\n",
      "       ..., \n",
      "       [251, 251, 251, ..., 251, 251, 250],\n",
      "       [251, 251, 251, ..., 250, 251, 250],\n",
      "       [251, 251, 251, ..., 250, 251, 250]], dtype=uint8), array([[249, 249, 249, ..., 251, 251, 251],\n",
      "       [250, 251, 251, ..., 251, 251, 251],\n",
      "       [251, 251, 250, ..., 251, 251, 251],\n",
      "       ..., \n",
      "       [250, 250, 250, ..., 251, 251, 251],\n",
      "       [251, 251, 251, ..., 251, 251, 251],\n",
      "       [251, 251, 251, ..., 251, 251, 251]], dtype=uint8)]\n",
      "Found 0 images belonging to 0 classes.\n",
      "Found 0 images belonging to 0 classes.\n"
     ]
    }
   ],
   "source": [
    "# 实验代码\n",
    "from keras.preprocessing.image import ImageDataGenerator\n",
    "\n",
    "imgs = [covert_store_gray_img(file_names[i], destination_path[i]) for i in range(5)]\n",
    "\n",
    "# 将图片转化为数组\n",
    "def img_to_array(img):\n",
    "    return np.array(img)\n",
    "\n",
    "print([img_to_array(img) for img in imgs])\n",
    "\n",
    "data_gen = ImageDataGenerator(rescale=1. / 255, validation_split=0.1)\n",
    "\n",
    "train_generator = data_gen.flow_from_directory('covert/',\n",
    "                                               target_size=(64, 300),\n",
    "                                               batch_size=100,\n",
    "                                               class_mode='categorical', subset='training')\n",
    "\n",
    "validation_generator = data_gen.flow_from_directory('covert/',\n",
    "                                               target_size=(64, 300),\n",
    "                                               batch_size=100,\n",
    "                                               class_mode='categorical', subset='validation')\n",
    "\n",
    "# for e in range(epochs):\n",
    "#     print('Epoch', e)\n",
    "#     batches = 0\n",
    "#     for x_batch, y_batch in datagen.flow(x_train, y_train, batch_size=32):\n",
    "#         model.fit(x_batch, y_batch)\n",
    "#         batches += 1\n",
    "#         if batches >= len(x_train) / 32:\n",
    "#             # 我们需要手动打破循环，\n",
    "#             # 因为生成器会无限循环\n",
    "#             break\n"
   ]
  },
  {
   "cell_type": "code",
   "execution_count": 43,
   "metadata": {
    "collapsed": false
   },
   "outputs": [
    {
     "name": "stdout",
     "output_type": "stream",
     "text": [
      "[[247 247 247 ..., 247 247 247]\n",
      " [247 247 247 ..., 247 247 247]\n",
      " [247 247 247 ..., 247 247 247]\n",
      " ..., \n",
      " [247 247 247 ..., 247 247 247]\n",
      " [247 247 247 ..., 247 247 247]\n",
      " [247 247 247 ..., 247 247 247]]\n"
     ]
    }
   ],
   "source": [
    "def img_to_array(img_path):\n",
    "    img = Image.open(img_path)\n",
    "    return np.array(img.getdata())\n",
    "\n",
    "array = img_to_array('covert/0.jpg')\n",
    "a = array.reshape(64, 300)\n",
    "print(a)\n",
    "\n",
    "# from keras.preprocessing import image \n",
    "# img = image.load_img('covert/0.jpg', target_size=(64, 300))"
   ]
  }
 ],
 "metadata": {
  "anaconda-cloud": {},
  "kernelspec": {
   "display_name": "Python [conda env:dog-project]",
   "language": "python",
   "name": "conda-env-dog-project-py"
  },
  "language_info": {
   "codemirror_mode": {
    "name": "ipython",
    "version": 3
   },
   "file_extension": ".py",
   "mimetype": "text/x-python",
   "name": "python",
   "nbconvert_exporter": "python",
   "pygments_lexer": "ipython3",
   "version": "3.5.3"
  }
 },
 "nbformat": 4,
 "nbformat_minor": 2
}
